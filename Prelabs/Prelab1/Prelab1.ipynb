{
 "cells": [
  {
   "cell_type": "markdown",
   "metadata": {},
   "source": [
    "*portions of this notebook were adapted from [Mark Krumholz's public course notes](https://sites.google.com/a/ucsc.edu/krumholz/teaching-and-courses/)*"
   ]
  },
  {
   "cell_type": "markdown",
   "metadata": {},
   "source": [
    "### *** Name: [Insert Your Name Here]***\n",
    "\n",
    "#### Enter the number of minutes that you spent on this prelab here: "
   ]
  },
  {
   "cell_type": "markdown",
   "metadata": {},
   "source": [
    "# Prelab 1 -  First Steps in Python\n",
    "\n",
    "*Note that in order to complete this prelab on your own computer, you need to follow the software installation instructions on the course Moodle page.* \n",
    "\n",
    "*To complete it using one of the course computers in NSC A126, simply download this notebook, open the app \"Terminal\" on the computer, type* `jupyter notebook` *at the prompt, navigate to the directory where your download was saved, and click on the .ipynb file to launch the notebook. It will open in a web browser.*\n",
    "\n",
    "## Prelab 1 Contents\n",
    "\n",
    "1. Jupyter \n",
    "   * Jupyter Intro\n",
    "   * Jupyter cautions\n",
    "2. Using Jupyter as a calculator\n",
    "3. Variables\n",
    "   * Defining Variables\n",
    "   * Variable Types\n",
    "   * Type Conversions\n",
    "   \n",
    "***Each section 1-3 of this notebook contains a short exercise that you must complete to receive full credit.***\n",
    "\n",
    "Before beginning this prelab, please read the following excerpts from Jake VanderPlas' \"Whirlwind Tour of Python\"  \n",
    "[Introduction](https://github.com/jakevdp/WhirlwindTourOfPython/blob/6f1daf714fe52a8dde6a288674ba46a7feed8816/00-Introduction.ipynb)  \n",
    "[How to Run Python Code](https://github.com/jakevdp/WhirlwindTourOfPython/blob/6f1daf714fe52a8dde6a288674ba46a7feed8816/01-How-to-Run-Python-Code.ipynb)  \n",
    "[Quick Tour of the Python Language Syntax](https://github.com/jakevdp/WhirlwindTourOfPython/blob/6f1daf714fe52a8dde6a288674ba46a7feed8816/02-Basic-Python-Syntax.ipynb)\n",
    "\n",
    "\n",
    "## 1. Jupyter \n",
    "\n",
    "### 1.1 Jupyter Intro\n",
    "\n",
    "Jupyter notebooks have two kinds of cells. Markdown cells like this one (this probably looks to you like an ordinary block of text, but double click on it to see what I mean by a \"cell\") have no labeling to the left of the cell, and, when executed, appear as ordinary text. Code cells like the one below have `In [ ]:` printed to the side of them and, when executed, a number appears inside of the brackets. ***To execute both Markdown and code cells in Jupyter, hit shift + enter inside of that cell***. Try it by double clicking on this cell and hitting shift + enter, and then do the same with the code cell below. Note that a markdown cell becomes pure text when you execute it, while a code cell spits out some output labelled `Out [ ]:`."
   ]
  },
  {
   "cell_type": "code",
   "execution_count": null,
   "metadata": {},
   "outputs": [],
   "source": [
    "1+2"
   ]
  },
  {
   "cell_type": "markdown",
   "metadata": {},
   "source": [
    "The guts of Jupyter is the coding language Python, and any and all Python syntax will work inside of code cells. However, Jupyter code cells also have some extra capabilities, which we will talk about as needed in the future.\n",
    "\n",
    "A key feature of Jupyter is that it integrates text (instructions/notes), code ***and*** output all in the same document. For this reason, many astronomers and data scientists use Jupyter as a sort of lab notebook rather than maintaining lab notes, code, and code output all in separate documents. Increasingly, people are publicly releasing their Jupyter notebook data analyses as a means of increasing transparency and reproducibility in their scientific results. \n",
    "\n",
    "### 1.2 Jupyter Cautions\n",
    "\n",
    "You should always keep in mind that ***cells within a Jupyter notebook can be executed and reexecuted in any order*** as this can sometimes get you into trouble. This feature is the reason why an executed code cell is numbered, so that you know what order the cells you see have been executed in. Cell execution is not necessarily linear from the top to the bottom of the document, but can jump around within it. Often, you will note a mistake or something that you want to try and will go back and change the code in an earlier cell. If you reexecute just this one cell, then any already executed cells that rely on variables defined in the reexecuted cell or its output will ***not*** be automatically updated.  \n",
    "\n",
    "For the purposes of this class, labs and homeworks should always be executable in a linear fashion, as you will be clearing all output before submitting them. You should observe the following \"best practices\" for coding in notebooks. \n",
    "\n",
    "1. Use descriptive variable labels (e.g. lum_stara = , mass_starb =) and create a new variable name each time you do a calculation. ***Do not reuse variable names*** or you risk referring to one thing when you think you're referring to something else.\n",
    "\n",
    "2. Before handing in any lab or homework, restart the kernel with the menu at the top of the notebook and execute the whole thing from start to finish once, making sure that all of your code output is how you want it. Note that ***restarting the kernel will clear the code output, not the code itself***, so you will not be losing your work.\n",
    "\n",
    "3. If you note a mistake in an earlier cell and go back to correct it, you should be careful to also reexecute any later cells that depend on it. ***If you want to do a calculation similar to one that you executed in a previous cell, you should copy the contents of that cell into a new cell***, rename the variables, and execute it again. "
   ]
  },
  {
   "cell_type": "markdown",
   "metadata": {},
   "source": [
    "<div class=hw>\n",
    "\n",
    "### Exercise 1 - Markdown Features and Shortcuts\n",
    "-------------\n",
    "\n",
    "A list of jupyter keyboard shortcuts can be found [here](https://www.cheatography.com/weidadeyue/cheat-sheets/jupyter-notebook/) and another list of Markdown tips [here](https://www.ibm.com/support/knowledgecenter/SSQNUZ_current/com.ibm.icpdata.doc/dsx/markd-jupyter.html). You may wish to bookmark these pages. Use them now to execute the following tasks."
   ]
  },
  {
   "cell_type": "code",
   "execution_count": null,
   "metadata": {},
   "outputs": [],
   "source": [
    "a. Change this cell to a markdown cell"
   ]
  },
  {
   "cell_type": "markdown",
   "metadata": {},
   "source": [
    "<div class=hw>\n",
    "b. Insert a blank code cell above this one, and one below as well."
   ]
  },
  {
   "cell_type": "markdown",
   "metadata": {},
   "source": [
    "<div class=hw>\n",
    "c. Split the cell below in between the two operations so that each appears in its own separate cell, and then execute both cells. "
   ]
  },
  {
   "cell_type": "code",
   "execution_count": null,
   "metadata": {},
   "outputs": [],
   "source": [
    "1+2\n",
    "1+3"
   ]
  },
  {
   "cell_type": "markdown",
   "metadata": {},
   "source": [
    "<div class=hw>\n",
    "d. Delete the cell below"
   ]
  },
  {
   "cell_type": "markdown",
   "metadata": {},
   "source": [
    "This cell is junk"
   ]
  },
  {
   "cell_type": "markdown",
   "metadata": {},
   "source": [
    "<div class=hw>\n",
    "I've also given you a cheat sheet for syntax within markdown cells, which can be accessed [here](https://guides.github.com/pdfs/markdown-cheatsheet-online.pdf) if you ever lose it. Use this to complete the following tasks.\n",
    "\n",
    "e. Make this text italic.\n",
    "\n",
    "f. Make this text bold.\n",
    "\n",
    "g. Make this text bold and italic. \n",
    "\n",
    "h. Make this a heading.\n",
    "\n",
    "i. Make this a hyperlink to your favorite webpage.\n",
    "\n",
    "j. Insert the image logo.png here\n",
    "\n",
    "k. Make the asterisks in the following sentence visible: I *love* astronomy"
   ]
  },
  {
   "cell_type": "markdown",
   "metadata": {},
   "source": [
    "There are obviously lots of other things that you can do, but these are the basics that you'll use the most often.\n",
    "\n",
    "## 2. Using jupyter as a calculator\n",
    "\n",
    "In Jupyter notebooks, every cell is a command prompt into which we can enter python commands. One very basic way to use python is as a calculator.\n",
    "\n",
    "Python knows the basic arithmetic operations plus (+), minus (-), times (\\*), divide (/), and raise to a power (\\**).\n",
    "\n",
    "*Sidenote* \n",
    "Note that if you double click on this cell, you'll see that I've inserted a BACKSLASH (\\) before the asterisks. That is because the asterisk has special meaning inside of a markdown cell. Single asterisks make an item *italicized* when you execute the cell, and double asterisks make it **bold**. This is ***NOT*** the case for code cells.  \n",
    "\n",
    "Execute all of the cells below and make sure that you understand what they're doing before moving on."
   ]
  },
  {
   "cell_type": "code",
   "execution_count": null,
   "metadata": {},
   "outputs": [],
   "source": [
    "2+3"
   ]
  },
  {
   "cell_type": "code",
   "execution_count": null,
   "metadata": {},
   "outputs": [],
   "source": [
    "2*3"
   ]
  },
  {
   "cell_type": "code",
   "execution_count": null,
   "metadata": {},
   "outputs": [],
   "source": [
    "2-3"
   ]
  },
  {
   "cell_type": "code",
   "execution_count": null,
   "metadata": {},
   "outputs": [],
   "source": [
    "2/3"
   ]
  },
  {
   "cell_type": "code",
   "execution_count": null,
   "metadata": {},
   "outputs": [],
   "source": [
    "2**3"
   ]
  },
  {
   "cell_type": "markdown",
   "metadata": {},
   "source": [
    "Jupyter/python also understands parentheses, and follows the normal rules for order of operations:"
   ]
  },
  {
   "cell_type": "code",
   "execution_count": null,
   "metadata": {},
   "outputs": [],
   "source": [
    "1+2*3"
   ]
  },
  {
   "cell_type": "code",
   "execution_count": null,
   "metadata": {},
   "outputs": [],
   "source": [
    "1+2**3"
   ]
  },
  {
   "cell_type": "code",
   "execution_count": null,
   "metadata": {},
   "outputs": [],
   "source": [
    "(1+2)*3"
   ]
  },
  {
   "cell_type": "markdown",
   "metadata": {},
   "source": [
    "<div class=hw>\n",
    "\n",
    "### Exercise 2\n",
    "-------------\n",
    "\n",
    "Execute the calculations shown below in python. Use the code cells below each expression.\n",
    "\n",
    "x = 2.5x10$^4$   \n",
    "y = 8.1x10$^3$\n",
    "\n",
    "a. $x+y$  "
   ]
  },
  {
   "cell_type": "code",
   "execution_count": null,
   "metadata": {},
   "outputs": [],
   "source": []
  },
  {
   "cell_type": "markdown",
   "metadata": {},
   "source": [
    "<div class=hw>\n",
    "b. $x^3$  "
   ]
  },
  {
   "cell_type": "code",
   "execution_count": null,
   "metadata": {},
   "outputs": [],
   "source": []
  },
  {
   "cell_type": "markdown",
   "metadata": {},
   "source": [
    "<div class=hw>\n",
    "c. $\\sqrt{y}$  "
   ]
  },
  {
   "cell_type": "code",
   "execution_count": null,
   "metadata": {},
   "outputs": [],
   "source": []
  },
  {
   "cell_type": "markdown",
   "metadata": {},
   "source": [
    "<div class=hw>\n",
    "d. $\\frac{3x+y^2}{2}$"
   ]
  },
  {
   "cell_type": "code",
   "execution_count": null,
   "metadata": {},
   "outputs": [],
   "source": []
  },
  {
   "cell_type": "markdown",
   "metadata": {},
   "source": [
    "## 3. Variables\n",
    "\n",
    "### 3.1 Defining Variables\n",
    "\n",
    "We can also define variables to store numbers, and we can perform arithmetic on those variables. Variables are just names for boxes that can store values, and on which you can perform various operations. See [this](https://github.com/jakevdp/WhirlwindTourOfPython/blob/master/03-Semantics-Variables.ipynb) excerpt from the Whirlwind Tour of Python for a nice explanation of how they work. For example, execute each of the cells below and make sure you understand the output:"
   ]
  },
  {
   "cell_type": "code",
   "execution_count": null,
   "metadata": {},
   "outputs": [],
   "source": [
    "a=4"
   ]
  },
  {
   "cell_type": "code",
   "execution_count": null,
   "metadata": {},
   "outputs": [],
   "source": [
    "a+1"
   ]
  },
  {
   "cell_type": "code",
   "execution_count": null,
   "metadata": {},
   "outputs": [],
   "source": [
    "a/2"
   ]
  },
  {
   "cell_type": "code",
   "execution_count": null,
   "metadata": {},
   "outputs": [],
   "source": [
    "a=a+1"
   ]
  },
  {
   "cell_type": "code",
   "execution_count": null,
   "metadata": {},
   "outputs": [],
   "source": [
    "a"
   ]
  },
  {
   "cell_type": "code",
   "execution_count": null,
   "metadata": {},
   "outputs": [],
   "source": [
    "a**2"
   ]
  },
  {
   "cell_type": "markdown",
   "metadata": {},
   "source": [
    "Note that the line a=a+1 redefined the variable as one greater than it was before. This is a simple example of how not using a new variable name could get you into trouble (if you were to assume that a was still 4). Note too that lines in which you have deifned a variable do not have any output by default. If you want to check that the variable is properly assigned or see its value, you can type the variable name alone on a line below the variable assignment line."
   ]
  },
  {
   "cell_type": "code",
   "execution_count": null,
   "metadata": {},
   "outputs": [],
   "source": [
    "a=10**2\n",
    "a"
   ]
  },
  {
   "cell_type": "markdown",
   "metadata": {},
   "source": [
    "There's also a subtle but important point to notice here, which is the meaning of the equal sign. In mathematics, the statement that a = b is a statement that two things are equal, and it can be either true or false. In python, as in almost all other programming languages, a = b means something different. It means that the value of the variable a should be changed to whatever value b has. Thus the statement we made a = a + 1 is not an assertion (which is obviously false) that a is equal to itself plus one. It is an instruction to the computer to take the variable a, and 1 to it, and then store the result back into the variable a. In this example, it therefore changes the value of a from 4 to 5.\n",
    "\n",
    "One more point regrading assignments: the fact that = means something different in programming than it does in mathematics implies that the statements a = b and b = a will have very different effects. The first one causes the computer to forget whatever is stored in a and replace it by whatever is stored in b. The second statement has the opposite effect: the computer forgets what is stored in b, and replaces it by whatever is stored in a.\n",
    "\n",
    "### 3.2 Variable Types\n",
    "\n",
    "The variable a that we have defined is an integer, or int for short. We can find this out by asking python using one of its many built-in functions, namely \"type\"."
   ]
  },
  {
   "cell_type": "code",
   "execution_count": null,
   "metadata": {},
   "outputs": [],
   "source": [
    "b=5"
   ]
  },
  {
   "cell_type": "code",
   "execution_count": null,
   "metadata": {},
   "outputs": [],
   "source": [
    "type(b)"
   ]
  },
  {
   "cell_type": "markdown",
   "metadata": {},
   "source": [
    "Integers are exactly what they sound like: they hold whole numbers, and operations involving them and other whole numbers will always yield whole numbers. This is an important point in general programming, because variable types are not generally reassigned dynamically. So, for example, the operation 5/2 would yield 2 rather than 2.5 if 5 is an integer. In our case, however, we are using Python 3, which will automatically convert an integer to the next type of variable if the natural output is not a whole number, as below :"
   ]
  },
  {
   "cell_type": "code",
   "execution_count": null,
   "metadata": {},
   "outputs": [],
   "source": [
    "b/2"
   ]
  },
  {
   "cell_type": "markdown",
   "metadata": {},
   "source": [
    "If we assign this to a variable, we will have a new type of variable: a floating point number, or float for short. Note that after completing this operation, b is no longer an integer, as you can see using type.\n",
    "\n",
    "unlike b, b/2 is ***not*** an integer, as you can see by creating a new variable, storing b/2 in it, and typing it."
   ]
  },
  {
   "cell_type": "code",
   "execution_count": null,
   "metadata": {},
   "outputs": [],
   "source": [
    "c = b/2"
   ]
  },
  {
   "cell_type": "code",
   "execution_count": null,
   "metadata": {},
   "outputs": [],
   "source": [
    "c"
   ]
  },
  {
   "cell_type": "code",
   "execution_count": null,
   "metadata": {},
   "outputs": [],
   "source": [
    "type(c)"
   ]
  },
  {
   "cell_type": "markdown",
   "metadata": {},
   "source": [
    "A floating point variable is capable of holding real numbers. \n",
    "\n",
    "Why have different types of variables for integers versus non-integer real numbers? In mathematics there is no need to make the distinction, of course: all integers are real numbers, so it would seem that there should be no reason to have a separate type of variable to hold integers. However, this ignores the way computers work. On a computer, operations involving integers are exact: 1 + 1 is exactly 2. However, operations on real numbers are necessarily inexact. I say necessarily because a real number is capable of having an arbitrary number of decimal places. The number pi contains infinitely many digits, and never repeats, but my computer only comes with a finite amount of memory and processor power. \n",
    "\n",
    "Even rational numbers (like 2/3) run into this problem, because their decimal representation (or to be exact their representation in binary) may be an infinitely repeating sequence. Thus it is not possible to perform operations on arbitrary real numbers to exact precision. Instead, arithmetic operations on floating point numbers are approximate, with the level of accuracy determined by factors like how much memory one wants to devote to storing digits, and how much processor time one wants to spend manipulating them. \n",
    "\n",
    "On most computers a python floating point number is accurate to about 1 in 10^15, but this depends on both the architecture and on the operations you perform. That's enough accuracy for many purposes, but there are plenty of situations (for example counting things) when we really want to do things precisely, and we want 1 + 1 to be exactly 2. That's what integers are there for.\n",
    "\n",
    "A third type of very useful variable is strings, abbreviated str. A string is a sequence of characters, and one can declare that something is a string by putting characters in quotation marks (either \" or ' is fine):"
   ]
  },
  {
   "cell_type": "code",
   "execution_count": null,
   "metadata": {},
   "outputs": [],
   "source": [
    "d = \"star\""
   ]
  },
  {
   "cell_type": "code",
   "execution_count": null,
   "metadata": {},
   "outputs": [],
   "source": [
    "type(d)"
   ]
  },
  {
   "cell_type": "markdown",
   "metadata": {},
   "source": [
    "The quotation marks are important here. To see why, try issuing the command without them:"
   ]
  },
  {
   "cell_type": "code",
   "execution_count": null,
   "metadata": {},
   "outputs": [],
   "source": [
    "d = star"
   ]
  },
  {
   "cell_type": "markdown",
   "metadata": {},
   "source": [
    "This is an error message, complaining that the computer doesn't know what star is. The problem is that, without the quotation marks, python thinks that star is the name of a variable, and complains when it can't find a variable by that name. Putting the quotation marks tells python that we mean a string, not a variable named star.\n",
    "\n",
    "Obviously we can't add strings in the same sense that we add numbers, but we can still do operations on them. The plus operation concatenates two strings together:"
   ]
  },
  {
   "cell_type": "code",
   "execution_count": null,
   "metadata": {},
   "outputs": [],
   "source": [
    "e = \"planet\""
   ]
  },
  {
   "cell_type": "code",
   "execution_count": null,
   "metadata": {},
   "outputs": [],
   "source": [
    "d+e"
   ]
  },
  {
   "cell_type": "markdown",
   "metadata": {},
   "source": [
    "In addition to integers, floats, and strings, there are three other types of variables worth mentioning. The first is a Boolean variable (named after George Boole), which represents a logical value. Boolean variables can be either True or False:"
   ]
  },
  {
   "cell_type": "code",
   "execution_count": null,
   "metadata": {},
   "outputs": [],
   "source": [
    "g = True"
   ]
  },
  {
   "cell_type": "code",
   "execution_count": null,
   "metadata": {},
   "outputs": [],
   "source": [
    "type(g)"
   ]
  },
  {
   "cell_type": "markdown",
   "metadata": {},
   "source": [
    "### 3.3 Type Conversins\n",
    "It can sometimes be useful to convert between variable types, particularly integers, floats and strings. To force an existing variable to be a certain type, use the functions `int()`, `float()`, `str()`, as below."
   ]
  },
  {
   "cell_type": "code",
   "execution_count": null,
   "metadata": {},
   "outputs": [],
   "source": [
    "#Hubble's constant\n",
    "H_0 = 500 #kilometers per second per Megaparsec\n",
    "type(H_0)"
   ]
  },
  {
   "cell_type": "code",
   "execution_count": null,
   "metadata": {},
   "outputs": [],
   "source": [
    "float(H_0)"
   ]
  },
  {
   "cell_type": "code",
   "execution_count": null,
   "metadata": {},
   "outputs": [],
   "source": [
    "str(H_0)"
   ]
  },
  {
   "cell_type": "code",
   "execution_count": null,
   "metadata": {},
   "outputs": [],
   "source": [
    "int(H_0)"
   ]
  },
  {
   "cell_type": "markdown",
   "metadata": {},
   "source": [
    "<div class=hw>\n",
    "\n",
    "### Exercise 3\n",
    "-------------\n",
    "A useful formula in Astronomy is that defining the angular distance between a planet and a star for a star at a given distance from Earth. The formula describing this relationship is:\n",
    "$$\\theta = \\frac{a_{planet}}{d_{star}}$$\n",
    "where $a_{planet}$ has units of AU (astronomical units, the distance between the Earth and the Sun), $d_{star}$ has units of parsecs (pc, equivalent to 3.26 light years), and $\\theta$ has units of arcseconds (1 arcsecond = 1/3600 degree).\n",
    "a. Let's assume we have a star 10 parsecs away with a planet at 5 AU (Jupiter's distance from the sun in our solar system). Create variables called \"a_planet\" and \"d_star\" with appropriate integer values. "
   ]
  },
  {
   "cell_type": "code",
   "execution_count": null,
   "metadata": {},
   "outputs": [],
   "source": [
    "# This is a comment\n",
    "# Lines in code cells with # before them are not executed\n",
    "# Answer here"
   ]
  },
  {
   "cell_type": "markdown",
   "metadata": {},
   "source": [
    "<div class=hw>\n",
    "b. Create a variable `theta` that stores the value of `a_planet` over `b_star`"
   ]
  },
  {
   "cell_type": "code",
   "execution_count": null,
   "metadata": {},
   "outputs": [],
   "source": [
    "#answer here"
   ]
  },
  {
   "cell_type": "markdown",
   "metadata": {},
   "source": [
    "<div class=hw>\n",
    "c. Print the type of the variable `theta`. Is it the same type as `a_planet` and `d_star`? Why or why not, do you think?"
   ]
  },
  {
   "cell_type": "code",
   "execution_count": null,
   "metadata": {},
   "outputs": [],
   "source": [
    "#answer here"
   ]
  },
  {
   "cell_type": "markdown",
   "metadata": {},
   "source": [
    "*answer here*"
   ]
  },
  {
   "cell_type": "markdown",
   "metadata": {},
   "source": [
    "<div class=hw>\n",
    "d. Convert theta to degrees using basic python math. "
   ]
  },
  {
   "cell_type": "code",
   "execution_count": null,
   "metadata": {},
   "outputs": [],
   "source": [
    "#answer here"
   ]
  },
  {
   "cell_type": "markdown",
   "metadata": {},
   "source": [
    "<div class=hw>\n",
    "e. Convert d_star to a distance in light years, and then convert the answer back to an integer."
   ]
  },
  {
   "cell_type": "code",
   "execution_count": null,
   "metadata": {},
   "outputs": [],
   "source": [
    "#answer here"
   ]
  },
  {
   "cell_type": "markdown",
   "metadata": {},
   "source": [
    "<div class=hw>\n",
    "f. Go back and reexecute the cell below b. What happened and why?"
   ]
  },
  {
   "cell_type": "markdown",
   "metadata": {},
   "source": [
    "*answer here*"
   ]
  },
  {
   "cell_type": "markdown",
   "metadata": {},
   "source": [
    "# Sumbitting Prelabs and Labs for Grading\n",
    "\n",
    "This semester, you'll be doing most of your work in Jupyter notebooks, and submitting them for grading through the course Moodle site. \n",
    "\n",
    "When you're done with a notebook, click the kernel menu and select \"restart and run all\". This will make all the cells in your notebook execute in a linear fashion. Make sure that the notebook has run all the way to the end and that the cells still have sensible output. We can't grade things that don't compile. Once you're satisfied, click the kernel menu again and select \"restart & clear all output\" and then \"close and halt\" from the file menu. Then to shut down the notebook server, go back to the original window where you started things up and type ctrl-C. You will be asked for confirmation, and if you type y, the server will then shut down.\n",
    "\n",
    "Note that there are also particular requirements for naming the files that you submit to Moodle as well. Please see the \"Moodle Assignment Submission Guidelines\" on the course Moodle site for more details. "
   ]
  },
  {
   "cell_type": "code",
   "execution_count": 1,
   "metadata": {},
   "outputs": [
    {
     "data": {
      "text/html": [
       "<style>\n",
       "div.hw {    \n",
       "    background-color: #fcf2f2;\n",
       "    border-color: #dFb5b4;\n",
       "    border-left: 5px solid #dfb5b4;\n",
       "    padding: 0.5em;\n",
       "    }\n",
       " </style>\n",
       "\n",
       "<style>\n",
       "div.sidebar {    \n",
       "    background-color: #d3d3d3;\n",
       "    border-color: #dFb5b4;\n",
       "    border-left: 5px solid #dfb5b4;\n",
       "    padding: 0.5em;\n",
       "    }\n",
       " </style>"
      ],
      "text/plain": [
       "<IPython.core.display.HTML object>"
      ]
     },
     "execution_count": 1,
     "metadata": {},
     "output_type": "execute_result"
    }
   ],
   "source": [
    "#this cell sets up the formatting for exercise and sidebar cells. \n",
    "#You do not need to modify or execute it\n",
    "from IPython.core.display import HTML\n",
    "def css_styling():\n",
    "    styles = open(\"../../custom.css\", \"r\").read()\n",
    "    return HTML(styles)\n",
    "css_styling()"
   ]
  }
 ],
 "metadata": {
  "anaconda-cloud": {},
  "kernelspec": {
   "display_name": "Python 3",
   "language": "python",
   "name": "python3"
  },
  "language_info": {
   "codemirror_mode": {
    "name": "ipython",
    "version": 3
   },
   "file_extension": ".py",
   "mimetype": "text/x-python",
   "name": "python",
   "nbconvert_exporter": "python",
   "pygments_lexer": "ipython3",
   "version": "3.7.3"
  }
 },
 "nbformat": 4,
 "nbformat_minor": 1
}
